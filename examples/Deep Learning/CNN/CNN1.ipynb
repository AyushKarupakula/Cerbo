{
  "nbformat": 4,
  "nbformat_minor": 0,
  "metadata": {
    "colab": {
      "name": "CNN1",
      "provenance": [],
      "collapsed_sections": []
    },
    "kernelspec": {
      "name": "python3",
      "display_name": "Python 3"
    },
    "accelerator": "GPU"
  },
  "cells": [
    {
      "cell_type": "code",
      "metadata": {
        "id": "DwQMhyDGhQwb",
        "colab_type": "code",
        "colab": {
          "base_uri": "https://localhost:8080/",
          "height": 85
        },
        "outputId": "2d05108e-d01e-40ab-be10-9102d78e901d"
      },
      "source": [
        "!pip install cerbo"
      ],
      "execution_count": null,
      "outputs": [
        {
          "output_type": "stream",
          "text": [
            "Collecting cerbo\n",
            "  Downloading https://files.pythonhosted.org/packages/04/2e/5fc7ac09ad73da8a38c50d2b184c3ee7e93d4bab8c46c5cd1e8c5182d3ee/cerbo-0.1.1-py3-none-any.whl\n",
            "Installing collected packages: cerbo\n",
            "Successfully installed cerbo-0.1.1\n"
          ],
          "name": "stdout"
        }
      ]
    },
    {
      "cell_type": "code",
      "metadata": {
        "id": "aov6jD_6heZS",
        "colab_type": "code",
        "colab": {
          "base_uri": "https://localhost:8080/",
          "height": 119
        },
        "outputId": "3276d78d-f2d1-42fc-97d4-07310819d01e"
      },
      "source": [
        "from cerbo.preprocessing import *\n",
        "from cerbo.DL import *\n",
        "import keras\n",
        "from keras.datasets import cifar10\n",
        "import numpy as np\n",
        "(X_train, y_train), (X_test, y_test) = load_dataset('mnist',flatten = False)\n",
        "X_train = np.reshape(X_train,(X_train.shape[0],X_train.shape[1],X_train.shape[2],1))\n",
        "X_test = np.reshape(X_test,(X_test.shape[0],X_train.shape[1],X_train.shape[2],1))\n",
        "y_train = keras.utils.to_categorical(y_train, 10) #labels the training data\n",
        "y_test = keras.utils.to_categorical(y_test, 10) #labels the test data"
      ],
      "execution_count": null,
      "outputs": [
        {
          "output_type": "stream",
          "text": [
            "/usr/local/lib/python3.6/dist-packages/statsmodels/tools/_testing.py:19: FutureWarning:\n",
            "\n",
            "pandas.util.testing is deprecated. Use the functions in the public API at pandas.testing instead.\n",
            "\n"
          ],
          "name": "stderr"
        },
        {
          "output_type": "stream",
          "text": [
            "Downloading data from https://storage.googleapis.com/tensorflow/tf-keras-datasets/mnist.npz\n",
            "11493376/11490434 [==============================] - 0s 0us/step\n"
          ],
          "name": "stdout"
        }
      ]
    },
    {
      "cell_type": "code",
      "metadata": {
        "id": "iKPD-zGlih_O",
        "colab_type": "code",
        "colab": {
          "base_uri": "https://localhost:8080/",
          "height": 374
        },
        "outputId": "c2afd436-249d-45c8-fcf0-bb47b563d49c"
      },
      "source": [
        "model = CNN(10, X_train,y_train,X_test,y_test,type='custom')\n",
        "model.addLayer('conv')\n",
        "model.addLayer('pool')\n",
        "model.addLayer('conv')\n",
        "model.addLayer('pool')\n",
        "model.addLayer('fc')\n",
        "model.addLayer('out','softmax')\n",
        "\n",
        "test_loss, test_acc = model.compute(loss='categorical_crossentropy',batch=128,num_epochs=10)\n",
        "print(test_acc)"
      ],
      "execution_count": null,
      "outputs": [
        {
          "output_type": "stream",
          "text": [
            "Epoch 1/10\n",
            "469/469 [==============================] - 4s 8ms/step - loss: 0.3994 - accuracy: 0.9410\n",
            "Epoch 2/10\n",
            "469/469 [==============================] - 4s 8ms/step - loss: 0.0459 - accuracy: 0.9854\n",
            "Epoch 3/10\n",
            "469/469 [==============================] - 4s 8ms/step - loss: 0.0333 - accuracy: 0.9896\n",
            "Epoch 4/10\n",
            "469/469 [==============================] - 4s 8ms/step - loss: 0.0264 - accuracy: 0.9918\n",
            "Epoch 5/10\n",
            "469/469 [==============================] - 4s 8ms/step - loss: 0.0208 - accuracy: 0.9933\n",
            "Epoch 6/10\n",
            "469/469 [==============================] - 4s 8ms/step - loss: 0.0198 - accuracy: 0.9937\n",
            "Epoch 7/10\n",
            "469/469 [==============================] - 4s 8ms/step - loss: 0.0184 - accuracy: 0.9938\n",
            "Epoch 8/10\n",
            "469/469 [==============================] - 4s 8ms/step - loss: 0.0156 - accuracy: 0.9952\n",
            "Epoch 9/10\n",
            "469/469 [==============================] - 4s 8ms/step - loss: 0.0139 - accuracy: 0.9958\n",
            "Epoch 10/10\n",
            "469/469 [==============================] - 4s 8ms/step - loss: 0.0132 - accuracy: 0.9961\n",
            "0.9904999732971191\n"
          ],
          "name": "stdout"
        }
      ]
    }
  ]
}