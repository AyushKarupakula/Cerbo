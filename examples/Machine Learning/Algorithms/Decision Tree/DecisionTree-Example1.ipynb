{
 "cells": [
  {
   "cell_type": "code",
   "execution_count": 14,
   "metadata": {
    "colab": {
     "base_uri": "https://localhost:8080/",
     "height": 394
    },
    "colab_type": "code",
    "executionInfo": {
     "elapsed": 7417,
     "status": "ok",
     "timestamp": 1600614754742,
     "user": {
      "displayName": "Anaiy Somalwar",
      "photoUrl": "https://lh3.googleusercontent.com/a-/AOh14GiR5D4JavGCYvc7TPM2n1InzKfSuufM_VpvHdGn=s64",
      "userId": "03117628713836502751"
     },
     "user_tz": 420
    },
    "id": "1Ho4_m9ZrSnj",
    "outputId": "d1c9aa0c-1187-45ae-d085-480b39507dfc"
   },
   "outputs": [
    {
     "data": {
      "text/html": [
       "<div>\n",
       "<style scoped>\n",
       "    .dataframe tbody tr th:only-of-type {\n",
       "        vertical-align: middle;\n",
       "    }\n",
       "\n",
       "    .dataframe tbody tr th {\n",
       "        vertical-align: top;\n",
       "    }\n",
       "\n",
       "    .dataframe thead th {\n",
       "        text-align: right;\n",
       "    }\n",
       "</style>\n",
       "<table border=\"1\" class=\"dataframe\">\n",
       "  <thead>\n",
       "    <tr style=\"text-align: right;\">\n",
       "      <th></th>\n",
       "      <th>date</th>\n",
       "      <th>cases</th>\n",
       "      <th>deaths</th>\n",
       "    </tr>\n",
       "  </thead>\n",
       "  <tbody>\n",
       "    <tr>\n",
       "      <th>558</th>\n",
       "      <td>2021-08-01</td>\n",
       "      <td>35039644</td>\n",
       "      <td>612982</td>\n",
       "    </tr>\n",
       "    <tr>\n",
       "      <th>559</th>\n",
       "      <td>2021-08-02</td>\n",
       "      <td>35175974</td>\n",
       "      <td>613440</td>\n",
       "    </tr>\n",
       "    <tr>\n",
       "      <th>560</th>\n",
       "      <td>2021-08-03</td>\n",
       "      <td>35326154</td>\n",
       "      <td>614109</td>\n",
       "    </tr>\n",
       "    <tr>\n",
       "      <th>561</th>\n",
       "      <td>2021-08-04</td>\n",
       "      <td>35438424</td>\n",
       "      <td>614834</td>\n",
       "    </tr>\n",
       "    <tr>\n",
       "      <th>562</th>\n",
       "      <td>2021-08-05</td>\n",
       "      <td>35565532</td>\n",
       "      <td>615408</td>\n",
       "    </tr>\n",
       "  </tbody>\n",
       "</table>\n",
       "</div>"
      ],
      "text/plain": [
       "           date     cases  deaths\n",
       "558  2021-08-01  35039644  612982\n",
       "559  2021-08-02  35175974  613440\n",
       "560  2021-08-03  35326154  614109\n",
       "561  2021-08-04  35438424  614834\n",
       "562  2021-08-05  35565532  615408"
      ]
     },
     "execution_count": 14,
     "metadata": {},
     "output_type": "execute_result"
    }
   ],
   "source": [
    "from cerbo.preprocessing import *\n",
    "from cerbo.ML import DecisionTree\n",
    "\n",
    "import pandas \n",
    "import csv\n",
    "url = 'https://raw.githubusercontent.com/nytimes/covid-19-data/master/us.csv'\n",
    "df = pandas.read_csv(url)\n",
    "inputs = df['cases'].to_numpy()             \n",
    "outputs = df['deaths'].to_numpy()\n",
    "df.tail(5)"
   ]
  },
  {
   "cell_type": "code",
   "execution_count": 15,
   "metadata": {
    "colab": {},
    "colab_type": "code",
    "executionInfo": {
     "elapsed": 7414,
     "status": "ok",
     "timestamp": 1600614754744,
     "user": {
      "displayName": "Anaiy Somalwar",
      "photoUrl": "https://lh3.googleusercontent.com/a-/AOh14GiR5D4JavGCYvc7TPM2n1InzKfSuufM_VpvHdGn=s64",
      "userId": "03117628713836502751"
     },
     "user_tz": 420
    },
    "id": "J-HWPttyxUt4"
   },
   "outputs": [],
   "source": [
    "past = 7\n",
    "s = (len(inputs) , past  * 2)\n",
    "betterinputs = np.zeros(s)\n",
    "betteroutputs = np.zeros(len(inputs))\n",
    "\n",
    "for i in range(len(inputs) - past): # - 0\n",
    "  temp = np.zeros(past * 2)\n",
    "  temp[0 : past] = inputs[i : i+ past]\n",
    "  temp[past:] = outputs[i : i + past] \n",
    "  betterinputs[i] = temp\n",
    "  betteroutputs[i] = inputs[i+past] # + 0\n",
    "betterinputs = betterinputs[0:len(df) - past] # - 0\n",
    "betteroutputs = betteroutputs[0:len(df) - past]"
   ]
  },
  {
   "cell_type": "code",
   "execution_count": 16,
   "metadata": {
    "colab": {},
    "colab_type": "code",
    "executionInfo": {
     "elapsed": 344,
     "status": "ok",
     "timestamp": 1600614940602,
     "user": {
      "displayName": "Anaiy Somalwar",
      "photoUrl": "https://lh3.googleusercontent.com/a-/AOh14GiR5D4JavGCYvc7TPM2n1InzKfSuufM_VpvHdGn=s64",
      "userId": "03117628713836502751"
     },
     "user_tz": 420
    },
    "id": "YiYrZvEuP-y9"
   },
   "outputs": [
    {
     "name": "stdout",
     "output_type": "stream",
     "text": [
      "Decision Tree Training RMSE: 0.0\n",
      "Decision Tree Testing RMSE: 84756.89552743836\n"
     ]
    }
   ],
   "source": [
    "#works with\n",
    "\n",
    "data = {\n",
    "    \"X\" : betterinputs,\n",
    "    \"y\" : betteroutputs\n",
    "}\n",
    "\n",
    "dt = DecisionTree(task=\"r\", data=data)"
   ]
  }
 ],
 "metadata": {
  "colab": {
   "authorship_tag": "ABX9TyO1qD+GV2qCIE4Gc6xDNTHI",
   "name": "DecisionTree-Example1.ipynb",
   "provenance": []
  },
  "kernelspec": {
   "display_name": "Python 3 (ipykernel)",
   "language": "python",
   "name": "python3"
  },
  "language_info": {
   "codemirror_mode": {
    "name": "ipython",
    "version": 3
   },
   "file_extension": ".py",
   "mimetype": "text/x-python",
   "name": "python",
   "nbconvert_exporter": "python",
   "pygments_lexer": "ipython3",
   "version": "3.8.10"
  }
 },
 "nbformat": 4,
 "nbformat_minor": 4
}
